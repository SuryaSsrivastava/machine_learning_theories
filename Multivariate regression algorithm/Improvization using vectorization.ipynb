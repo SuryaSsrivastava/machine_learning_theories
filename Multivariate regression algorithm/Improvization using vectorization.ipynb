{
 "cells": [
  {
   "cell_type": "code",
   "execution_count": 1,
   "metadata": {},
   "outputs": [],
   "source": [
    "import pandas as pd\n",
    "import numpy as np\n",
    "import matplotlib.pyplot as plt"
   ]
  },
  {
   "cell_type": "markdown",
   "metadata": {},
   "source": [
    "## Improvization of multivariate using vectorization"
   ]
  },
  {
   "cell_type": "code",
   "execution_count": 3,
   "metadata": {},
   "outputs": [],
   "source": [
    "def hypothesis(X,theta):\n",
    "    \n",
    "    return np.dot(X,theta)\n",
    "\n",
    "def error(X,y,theta):\n",
    "    \n",
    "    m=X.shape[0]\n",
    "    \n",
    "    e=0.0\n",
    "    \n",
    "    y_ = hypothesis(X,theta)\n",
    "    \n",
    "    e=np.sum((y_-y)**2)\n",
    "    \n",
    "    return e/m\n",
    "\n",
    "def gradient(X,y,theta):\n",
    "    \n",
    "    y_ =hypothesis(X,theta)\n",
    "    \n",
    "    grad=np.dot(X.T,(y_- y))\n",
    "    \n",
    "    m=X.shape[0]\n",
    "    \n",
    "    return grad/m\n",
    "\n",
    "def gradientDescent(X,y,learning_rate=0.1,max_iter=300):\n",
    "    \n",
    "    m,n=X.shape\n",
    "    \n",
    "    theta=np.zeros((n,))\n",
    "    \n",
    "    error_list=[]\n",
    "    \n",
    "    for i in range(max_iter):\n",
    "        \n",
    "        e=error(X,y,theta)\n",
    "        \n",
    "        error_list.append(e)\n",
    "        \n",
    "        grad=gradient(X,y,theta)\n",
    "        \n",
    "        theta=theta-learning_rate*grad\n",
    "            \n",
    "    return theta,error_list\n",
    "    \n",
    "    \n",
    "    "
   ]
  }
 ],
 "metadata": {
  "kernelspec": {
   "display_name": "Python 3",
   "language": "python",
   "name": "python3"
  },
  "language_info": {
   "codemirror_mode": {
    "name": "ipython",
    "version": 3
   },
   "file_extension": ".py",
   "mimetype": "text/x-python",
   "name": "python",
   "nbconvert_exporter": "python",
   "pygments_lexer": "ipython3",
   "version": "3.7.6"
  }
 },
 "nbformat": 4,
 "nbformat_minor": 2
}
